{
 "cells": [
  {
   "cell_type": "markdown",
   "id": "61491987",
   "metadata": {
    "slideshow": {
     "slide_type": "slide"
    }
   },
   "source": [
    "<body>\n",
    "    <h1>Welcome to CINF 135 - Concepts of Artificial Intelligence</h1>\n",
    "    <p>\n",
    "        <b>Rawan AlMakinah</b> <br>\n",
    "        Department of Information Sciences and Technology,<br>\n",
    "        College of Emergency Preparedness, Homeland Security, and Cybersecurity,<br>\n",
    "    </p>"
   ]
  },
  {
   "cell_type": "markdown",
   "id": "876255ea",
   "metadata": {
    "slideshow": {
     "slide_type": "slide"
    }
   },
   "source": [
    "<b>First things first: Attendance</b>\n",
    "<p>You will find the Attendance Sheet on your Brightspace Content Page. Please follow the link and enter the passphrase of the day!</p>\n",
    "\n",
    "<p> Link: <a href=\"https://forms.office.com/r/FjyypGH3X4\">Attendance Sheet</a>\n",
    "</p>\n"
   ]
  },
  {
   "cell_type": "markdown",
   "id": "42284037",
   "metadata": {
    "slideshow": {
     "slide_type": "slide"
    }
   },
   "source": [
    "<h3> To-Do!</h3>\n",
    "\n",
    "<p>Please read the sections:\n",
    "    <ol> \n",
    "    <li>Chapter 9 </li>\n",
    "    </ol>\n",
    "</p>"
   ]
  },
  {
   "cell_type": "markdown",
   "id": "3ac7d07d",
   "metadata": {
    "slideshow": {
     "slide_type": "slide"
    }
   },
   "source": [
    "<h2>The Future of AI</h2>\n",
    "<p>Will the future be dystopian or utopian?</p>\n",
    "<img src=\"UtopianDistopianAI.webp\" width=\"700\" height=\"400\" alt=\"Utopian vs Dystopian AI\">\n"
   ]
  },
  {
   "cell_type": "markdown",
   "id": "85a79511",
   "metadata": {
    "slideshow": {
     "slide_type": "slide"
    }
   },
   "source": [
    "<h3>US vs. China in AI</h3>\n",
    "<ul>\n",
    "  <li><strong>China</strong>:\n",
    "    <ul>\n",
    "      <li>Rapid growth with $150B AI investment by 2030; poised to lead in research citations.</li>\n",
    "      <li><strong>Key strengths:</strong>\n",
    "        <ul>\n",
    "          <li><strong>Enthusiasm</strong>: AlphaGo’s win inspired a surge in AI interest among youth.</li>\n",
    "          <li><strong>Data</strong>: 1.3B population, 700M+ internet users, and lenient privacy laws enable large-scale AI research (e.g., 600,000 patient study in <em>Nature Medicine</em>).</li>\n",
    "          <li><strong>Infrastructure</strong>: Government-funded AI cities and extensive 5G networks.</li>\n",
    "        </ul>\n",
    "      </li>\n",
    "    </ul>\n",
    "  </li>\n",
    "  <li><strong>US</strong>:\n",
    "    <ul>\n",
    "      <li>Cautious approach with limited government involvement.</li>\n",
    "      <li>“American AI Initiative” executive order lacks clear funding or actionable steps.</li>\n",
    "      <li><a href=\"https://trumpwhitehouse.archives.gov/ai/\">Artificial Intelligence for the American People</a></li>\n",
    "    </ul>\n",
    "  </li>\n",
    "</ul>\n"
   ]
  },
  {
   "cell_type": "markdown",
   "id": "f801672d",
   "metadata": {
    "slideshow": {
     "slide_type": "slide"
    }
   },
   "source": [
    "<h3>Technological Unemployment</h3>\n",
    "<ul>\n",
    "  <li><strong>Concept</strong>: Technological unemployment refers to job loss from innovation. While past automation caused workforce shifts, AI could be more disruptive.</li>\n",
    "  <li><strong>Examples</strong>:\n",
    "    <ul>\n",
    "      <li><strong>Low-Skilled Jobs</strong>: Robots like Harv (Harvest CROO Robotics) aim to replace labor-intensive roles, e.g., strawberry picking (one robot = 30 workers).</li>\n",
    "      <li><strong>White-Collar Jobs</strong>: AI startups like Lawgood and NexLP target legal tasks like contract review, automating high-paying professions.</li>\n",
    "    </ul>\n",
    "  </li>\n",
    "  <li><strong>Impact</strong>:\n",
    "    <ul>\n",
    "      <li>AI may reshape industries and create new careers but could exacerbate wealth inequality.</li>\n",
    "      <li>Automation parallels manufacturing job losses (1960s–1990s) and stagnant real wages over 40 years.</li>\n",
    "    </ul>\n",
    "  </li>\n",
    "  <li><strong>Solutions</strong>:\n",
    "    <ul>\n",
    "      <li><strong>Education</strong>: Continuous skill renewal</li>\n",
    "    </ul>\n",
    "  </li>\n",
    "</ul>\n"
   ]
  },
  {
   "cell_type": "markdown",
   "id": "15ef9443",
   "metadata": {
    "slideshow": {
     "slide_type": "slide"
    }
   },
   "source": [
    "<h1>AI Trends . . . </h1>"
   ]
  },
  {
   "cell_type": "markdown",
   "id": "d740183c",
   "metadata": {
    "slideshow": {
     "slide_type": "slide"
    }
   },
   "source": [
    "<h2>AI PCs</h2>\n",
    "<ul>\n",
    "  <li><a href=\"https://www.youtube.com/watch?v=xhFe3ejXybs\">CPU, GPU and NPU!</a></li>\n",
    "  <li><a href=\"https://www.youtube.com/watch?v=ET_iZnthP7o\">What is an AI Computer?</a></li>\n",
    "  <li><a href=\"https://www.youtube.com/watch?v=uHEPBzYick0\">Are we going to see an AI PCs Competition?</a></li>\n",
    "</ul>\n",
    "<p>What did they do differently in term of users' concerns?</p>\n"
   ]
  },
  {
   "cell_type": "markdown",
   "id": "43130641",
   "metadata": {
    "slideshow": {
     "slide_type": "slide"
    }
   },
   "source": [
    "<h2>Autonomous Cars</h2>\n",
    "<ul>\n",
    "  <li>\n",
    "    <strong>Stanford Cart</strong>: Developed in the 1960s for moon missions, later repurposed as an autonomous vehicle using cameras and AI. Took over 10 minutes to plan each move.\n",
    "  </li>\n",
    "  <li>\n",
    "    <strong>Ernst Dickmanns</strong>: In the 1980s, built an autonomous Mercedes van with cameras, sensors, and efficient software. Tested in 1994, covering 600+ miles at 81 MPH. Funding ended due to commercialization doubts and the AI winter.\n",
    "  </li>\n",
    "</ul>\n",
    "\n",
    "<h3>DARPA and the 2004 Turning Point for Autonomous Cars</h3>\n",
    "<p>The pivotal moment for autonomous cars came in 2004, spurred by DARPA's initiative to reduce soldier casualties during the Iraq War. This led to the development of key components for autonomous vehicles:</p>\n",
    "<ul>\n",
    "  <li><strong>Sensors</strong>: Detect obstacles like vehicles and curbs.</li>\n",
    "  <li><strong>Cameras</strong>: Recognize road signs, traffic lights, and pedestrians.</li>\n",
    "  <li><strong>Lidar (Light Detection and Ranging)</strong>: Maps surroundings using laser beams.</li>\n",
    "  <li><strong>Computer</strong>: Controls steering, acceleration, and braking using AI and predefined rules.</li>\n",
    "</ul>\n"
   ]
  },
  {
   "cell_type": "markdown",
   "id": "8180b6eb",
   "metadata": {
    "slideshow": {
     "slide_type": "slide"
    }
   },
   "source": [
    "<h3>Challenges with Autonomous Vehicles</h3>\n",
    "<ul>\n",
    "  <li><strong>Driving Complexity</strong>: Navigating dynamic traffic, altered signs, or ethical dilemmas.</li>\n",
    "  <li><strong>Infrastructure</strong>: Roads designed for traditional cars; need for sensors or separate lanes.</li>\n",
    "  <li><strong>Regulation</strong>: Slow policy changes and legal risks hinder progress.</li>\n",
    "  <li><strong>Cost & Skepticism</strong>: Expensive tech and public distrust (71% fear riding in AVs).</li>\n",
    "  <li><strong>Adoption</strong>: Likely starts in controlled areas (e.g., trucking, ride-sharing).</li>\n",
    "</ul>\n",
    "<a href=\"https://www.youtube.com/watch?v=PJSdGBxKJyw\">Aramco Autonomous Vehicles Hyper Truck One “HTO”</a>\n"
   ]
  },
  {
   "cell_type": "markdown",
   "id": "9afb71a4",
   "metadata": {
    "slideshow": {
     "slide_type": "slide"
    }
   },
   "source": [
    "<h3>Weaponization of AI</h3>\n",
    "\n",
    "<ul>\n",
    "  <li><a href=\"https://www.youtube.com/watch?v=OpLLyyqkue4\">Killer Robots</a></li>\n",
    "  <li><a href=\"https://www.thetimes.com/world/asia/article/chinese-army-robot-wolf-artificial-intelligence-9l0zr6m58\">Chinese Robot \"Wolf\"</a></li>\n",
    "  <li><a href=\"https://x.com/kimmonismus/status/1858801514808029538\">AI machine guns to counter AI drones</a></li>\n",
    "</ul>\n",
    "\n",
    "<ul>\n",
    "  <li><strong>What AI Technologies incorporated? Ethical Consideration?</strong></li>\n",
    "  <li><strong>What is the role of governance in regulating the application of AI in the development and deployment of killer robots?</strong></li>\n",
    "</ul>\n",
    "\n",
    "<ul>\n",
    "  <li><strong>Skyborg</strong>: AI wingman for fighter jets, capable of identifying threats and taking control if needed. It could also operate drones.</li>\n",
    "</ul>\n",
    "\n",
    "<img src=\"skyborg.jpg\" width=\"400\" height=\"200\" alt=\"A Skyborg conceptual design for a low-cost Unmanned Combat Aerial Vehicle (UCAV)\">\n",
    "\n",
    "<ul>\n",
    "  <li><strong>Ethical Concerns</strong>:\n",
    "    <ul>\n",
    "      <li>Over 2,400 experts and the UN advocate banning autonomous weapons, but key nations resist.</li>\n",
    "    </ul>\n",
    "  </li>\n",
    "</ul>\n"
   ]
  },
  {
   "cell_type": "markdown",
   "id": "6c177ec1",
   "metadata": {
    "slideshow": {
     "slide_type": "slide"
    }
   },
   "source": [
    "<h3>Weaponization of AI</h3>\n",
    "\n",
    "<ul>\n",
    "  <li><a href=\"https://x.com/_akhaliq/status/1656291671061983233\">DEEPFAKE IS A WEAPON, TOO!</a></li>\n",
    "  <li><a href=\"https://x.com/FellowshipAi/status/1857558744785383538/video/1\">Noam Chomsky!</a></li>\n",
    "</ul>\n"
   ]
  },
  {
   "cell_type": "markdown",
   "id": "6557de25",
   "metadata": {
    "slideshow": {
     "slide_type": "slide"
    }
   },
   "source": [
    "<h3>Drug Discovery with AI</h3>\n",
    "<ul>\n",
    "  <li><strong>Challenges</strong>:\n",
    "    <ul>\n",
    "      <li>Traditional drug development is slow and trial-based.</li>\n",
    "    </ul>\n",
    "  </li>\n",
    "  <li><strong>AI's Role</strong>:\n",
    "    <ul>\n",
    "      <li>AI startups like Insitro aim to revolutionize drug discovery, backed by major investors like Bezos Expeditions.</li>\n",
    "    </ul>\n",
    "  </li>\n",
    "  <li><strong>Potential</strong>:\n",
    "    <ul>\n",
    "      <li>AI could accelerate discovery, identify complex patterns, and enable personalized treatments.</li>\n",
    "    </ul>\n",
    "  </li>\n",
    "  <li><strong>Hurdles</strong>:\n",
    "    <ul>\n",
    "      <li>Regulatory challenges due to AI's \"black box\" nature.</li>\n",
    "      <li>Healthcare industry needs adaptation and education.</li>\n",
    "      <li>Human biology remains deeply complex, slowing progress.</li>\n",
    "    </ul>\n",
    "  </li>\n",
    "</ul>\n"
   ]
  },
  {
   "cell_type": "markdown",
   "id": "a0d42c97",
   "metadata": {
    "slideshow": {
     "slide_type": "slide"
    }
   },
   "source": [
    "<h3>Drug Discovery with AI. Cont</h3><ul>\n",
    "  <li>\n",
    "    <a href=\"https://www.nytimes.com/2024/10/13/briefing/nobel-prize-artificial-intelligence.html\">A Shift in the World of Science</a>\n",
    "    <ul>\n",
    "      <li><strong>Physics Nobel</strong>: For advancing AI to mimic brain learning.</li>\n",
    "      <li><strong>Chemistry Nobel</strong>: For using AI to design proteins and solve decades-old biology challenges.</li>\n",
    "      <li><strong>AI's Role</strong>: Scientists may create tools for breakthroughs, not fully understand them.</li>\n",
    "    </ul>\n",
    "  </li>\n",
    "  <li><a href=\"https://www.youtube.com/watch?v=WQgJ7dMFbgo\">Will Artificial Intelligence Prolong Your Lifespan?</a></li>\n",
    "</ul>\n",
    "\n",
    "\n",
    "\n",
    "\n"
   ]
  },
  {
   "cell_type": "markdown",
   "id": "0b234560",
   "metadata": {
    "slideshow": {
     "slide_type": "slide"
    }
   },
   "source": [
    "<h3>Government and AI</h3>\n",
    "<ul>\n",
    "  <li><strong>Privacy Concerns</strong>:\n",
    "    <ul>\n",
    "      <li>Amazon Alexa relies on human reviewers to improve AI. Concerns grew when reviewers reportedly heard potential criminal activities.</li>\n",
    "    </ul>\n",
    "  </li>\n",
    "  <li><strong>Legislation</strong>:\n",
    "    <ul>\n",
    "      <li>Proposed <strong>Algorithmic Accountability Act</strong> would require large companies to audit AI systems.</li>\n",
    "      <li>States like New York, Washington, Illinois, and Massachusetts push for AI transparency laws.</li>\n",
    "    </ul>\n",
    "  </li>\n",
    "</ul>\n",
    "<ul>\n",
    "  <li><strong>Corporate Actions</strong>:\n",
    "    <ul>\n",
    "      <li>Companies like Microsoft adopt ethics boards; its Aether board rejected facial recognition for California traffic stops.</li>\n",
    "    </ul>\n",
    "  </li>\n",
    "  <li><strong>Controversies</strong>:\n",
    "    <ul>\n",
    "      <li>Amazon’s Rekognition criticized for inaccuracies, especially with women and minorities (ACLU found errors in testing).</li>\n",
    "      <li>AI tools like COMPAS, used in sentencing, face scrutiny over potential bias and due process violations.</li>\n",
    "    </ul>\n",
    "  </li>\n",
    "  <li><strong>Future Outlook</strong>:\n",
    "    <ul>\n",
    "      <li>Growing AI controversies may lead to activism and Supreme Court involvement in defining new laws.</li>\n",
    "    </ul>\n",
    "  </li>\n",
    "</ul>\n"
   ]
  },
  {
   "cell_type": "markdown",
   "id": "51b6c05e",
   "metadata": {
    "slideshow": {
     "slide_type": "slide"
    }
   },
   "source": [
    "<h3>Artificial General Intelligence (AGI)</h3>\n",
    "<ul>\n",
    "  <li><strong>Definition</strong>: AGI refers to machines capable of human-like intelligence, unlike today's narrow (weak) AI. Achieving it may take decades or longer.</li>\n",
    "  <li><strong>Requirements</strong>:\n",
    "    <ul>\n",
    "      <li><strong>Skills</strong>: Common sense, abstraction, curiosity, and causal reasoning.</li>\n",
    "      <li><strong>Innovations</strong>: Unsupervised and transfer learning, breakthroughs in hardware and energy technology.</li>\n",
    "    </ul>\n",
    "  </li>\n",
    "  <li><strong>Challenges</strong>:\n",
    "    <ul>\n",
    "      <li>Current computers struggle with AGI's demands.</li>\n",
    "      <li>Diversity gap: AI field heavily male-dominated (80% of professors, ~10–15% women at Facebook/Google), risking bias and limited perspectives.</li>\n",
    "    </ul>\n",
    "  </li>\n",
    "</ul>\n",
    "\n",
    "<p><a href=\"https://www.youtube.com/watch?v=gSStet08rSA&ab_channel=JuliaMcCoy\">OpenAI's GPT-4.5 has reportedly passed the Turing Test!!!</a></p>\n"
   ]
  },
  {
   "cell_type": "markdown",
   "id": "585ef554",
   "metadata": {
    "slideshow": {
     "slide_type": "slide"
    }
   },
   "source": [
    "<h3>AI Trend Hunters Activity</h3>\n",
    "<ol>\n",
    "  <li>\n",
    "    <strong>Find a Project:</strong> Search on GitHub, Twitter, YouTube, etc.\n",
    "    <ul>\n",
    "      <li>Examples: AI-generated art, music creation tools, game bots, or movie effects.</li>\n",
    "    </ul>\n",
    "  </li>\n",
    "  <li>\n",
    "    <strong>Analyze the Project:</strong>\n",
    "    <ul>\n",
    "      <li><strong>Purpose:</strong> What does it aim to achieve?</li>\n",
    "      <li><strong>Tools:</strong> What AI technologies are used?</li>\n",
    "      <li><strong>Ethical Concerns:</strong> Any risks (bias, misuse)?</li>\n",
    "      <li><strong>Privacy:</strong> How is user data handled?</li>\n",
    "    </ul>\n",
    "  </li>\n",
    "  <li>\n",
    "    <strong>Present:</strong> Share your findings in <strong>2 minutes</strong> with the class.\n",
    "  </li>\n",
    "</ol>\n",
    "\n",
    "<p><strong>Tip:</strong> Be creative and focus on the impact of the project on entertainment and society!</p>\n",
    "<p><strong>Do not Forget:</strong> All Team Members Should Submit the Work to BrightSpace!</p>\n",
    "\n"
   ]
  },
  {
   "cell_type": "markdown",
   "id": "1402c31c",
   "metadata": {
    "slideshow": {
     "slide_type": "slide"
    }
   },
   "source": [
    "<h2> Explore the AI Field on your own and unleash your potential!</h2>\n",
    "<p> Good Luck! </p>\n"
   ]
  }
 ],
 "metadata": {
  "celltoolbar": "Slideshow",
  "kernelspec": {
   "display_name": "Python 3 (ipykernel)",
   "language": "python",
   "name": "python3"
  },
  "language_info": {
   "codemirror_mode": {
    "name": "ipython",
    "version": 3
   },
   "file_extension": ".py",
   "mimetype": "text/x-python",
   "name": "python",
   "nbconvert_exporter": "python",
   "pygments_lexer": "ipython3",
   "version": "3.12.2"
  }
 },
 "nbformat": 4,
 "nbformat_minor": 5
}
