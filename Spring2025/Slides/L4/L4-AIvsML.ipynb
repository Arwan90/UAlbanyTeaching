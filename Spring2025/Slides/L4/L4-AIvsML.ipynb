{
 "cells": [
  {
   "cell_type": "markdown",
   "id": "ac9d7a88",
   "metadata": {
    "slideshow": {
     "slide_type": "slide"
    }
   },
   "source": [
    "<body>\n",
    "    <h1>Welcome to CINF 135 - Concepts of Artificial Intelligence</h1>\n",
    "    <p>\n",
    "        <b>Rawan AlMakinah</b>, <br>\n",
    "        Department of Information Sciences and Technology,<br>\n",
    "        College of Emergency Preparedness, Homeland Security, and Cybersecurity,<br>\n",
    "    </p>"
   ]
  },
  {
   "cell_type": "markdown",
   "id": "9f287ce5",
   "metadata": {
    "slideshow": {
     "slide_type": "slide"
    }
   },
   "source": [
    "<h3>Let's start with an entertainment!</h3>\n",
    "\n",
    "<a href=\"https://x.com/Kyrannio/status/1755975707866595388?s=20\" >AI Generated Everything!</a>\n",
    "\n",
    "<a href=\"https://x.com/MattWallace888/status/1835684699571638587\" > AI as the Dream Catcher </a>\n",
    "\n",
    "<a href=\"https://x.com/kimmonismus/status/1836504969890890070\"> Speech to Speech Models</a>"
   ]
  },
  {
   "cell_type": "markdown",
   "id": "662ddb2c",
   "metadata": {
    "slideshow": {
     "slide_type": "slide"
    }
   },
   "source": [
    "<b>First things first: Attendance</b>\n",
    "<p>You will find the Attendance Sheet on your Brightspace Content Page. Please follow the link and enter the passphrase of the day!</p>\n",
    "\n",
    "<p> Link: <a href=\"https://forms.office.com/r/FjyypGH3X4\">Attendance Sheet</a>\n",
    "\n",
    "</p>\n"
   ]
  },
  {
   "cell_type": "markdown",
   "id": "e050f77a",
   "metadata": {
    "slideshow": {
     "slide_type": "slide"
    }
   },
   "source": [
    "<h2>Chapter Three: Machine Learning</h2>\n"
   ]
  },
  {
   "cell_type": "markdown",
   "id": "ba48ca2a",
   "metadata": {
    "slideshow": {
     "slide_type": "fragment"
    }
   },
   "source": [
    "<h1>Artificial Intelligence and Machine Learning</h1>"
   ]
  },
  {
   "cell_type": "markdown",
   "id": "d4175c6b",
   "metadata": {
    "slideshow": {
     "slide_type": "slide"
    }
   },
   "source": [
    "<h2>Fields that contribute to Artificial Intelligence:</h2>\n",
    "\n",
    "<p>\n",
    "<ul>\n",
    "    <li>Probability and Statistics</li>\n",
    "    <li>Economics</li>\n",
    "    <li>Computer Science, especially algorithm design</li>\n",
    "    <li>Mathematics</li>\n",
    "    <li>Psychology</li>\n",
    "    <li>Linguistics</li>\n",
    "    <li>Neuroscience - the article sort of misses that one</li>\n",
    "</ul>\n",
    "<p><em>Ahem.</em> Alan Turing came up with the Turing Test in the <em>20th</em> century.\n",
    "<p>He mentions \"self-learning neural networks\" but doesn't give any specifics. Intriguing, albeit a bit frustrating.\n",
    "    "
   ]
  },
  {
   "cell_type": "markdown",
   "id": "5713bbe1",
   "metadata": {
    "slideshow": {
     "slide_type": "slide"
    }
   },
   "source": [
    "\n",
    "<h3> Exercise: Writing Pseudocode for an AI Task</h3>\n",
    "\n",
    "<p>Task: Create a pseudocode for a simple AI that can suggest a movie based on a user’s mood.\n",
    "\n",
    "<p>Scenario:\n",
    "Imagine you are designing an AI assistant that helps people choose a movie to watch based on how they’re feeling. The AI will ask the user about their current mood (e.g., happy, sad, excited) and then suggest a movie that matches that mood.\n",
    "\n",
    "<p>Instructions:\n",
    "\n",
    "<ul>\n",
    "    <li>Identify Inputs:</li>\n",
    "        •\tWhat inputs does your AI need to gather from the user?\n",
    "\t<li>Define the Process:</li>\n",
    "\t•\tHow will the AI process the user’s input to determine a movie suggestion?\n",
    "\t•\tConsider using basic conditions (e.g., if the user is happy, suggest a comedy).\n",
    "\t<li>Determine the Output:</li>\n",
    "\t•\tWhat will the AI output to the user after processing their mood?\n",
    "\t<li>Write the Pseudocode:</li>\n",
    "\t•\tDraft a simple pseudocode that outlines the steps your AI will take to suggest a movie.\n",
    "\n",
    "</ul>\n"
   ]
  },
  {
   "attachments": {
    "Learning%20Graph.jpg": {
     "image/jpeg": "[encoded data removed]"
    }
   },
   "cell_type": "markdown",
   "id": "cac979cb",
   "metadata": {
    "slideshow": {
     "slide_type": "slide"
    }
   },
   "source": [
    "![Learning%20Graph.jpg](attachment:Learning%20Graph.jpg)"
   ]
  },
  {
   "cell_type": "markdown",
   "id": "d9e4fba9",
   "metadata": {
    "slideshow": {
     "slide_type": "fragment"
    }
   },
   "source": [
    "[Explain the graph]\n",
    "<ul>\n",
    "    <li>Learning reaches an asymptote</li>\n",
    "    <li>Comparing different approaches/algorithms</li>\n",
    "    <li>training vs. testing</li>\n",
    "    </ul>"
   ]
  },
  {
   "cell_type": "markdown",
   "id": "44b7c37b",
   "metadata": {
    "slideshow": {
     "slide_type": "slide"
    }
   },
   "source": [
    "<h4>Generative Systems</h4>\n",
    "<em>Generative ML systems </em> generate (create) various outputs. These can be images, text, audio, etc. Some examples include:\n",
    "\n",
    "<p><ul>\n",
    "    <li>GPT3</li>\n",
    "    <li>ChatGPT</li>\n",
    "    <li>DALL.E</li>\n",
    "    <li>GANs</li>\n",
    "    </ul>"
   ]
  },
  {
   "cell_type": "markdown",
   "id": "7a03edb9",
   "metadata": {
    "slideshow": {
     "slide_type": "slide"
    }
   },
   "source": [
    "<h4>Some issues</h4>\n",
    "<p>Limited by their data.\n",
    "    Incomplete and/or biased data.\n",
    "    The availbility of data.\n",
    "    <p>Computational Power\n",
    "        <ul>\n",
    "            <li>The length of time it takes to train these systems.</li>\n",
    "        <li>Costs.</li>\n",
    "        <li>Availability of resources.</li>\n",
    "        <li>TPUs as a successor to GPUs.</li>\n",
    "            </ul>\n",
    "        <p>Privacy\n",
    "            <ul>\n",
    "                <li>Health  data</li>\n",
    "                <li>Economic Issues, Job loss, Intellectual property. </li>\n",
    "                </ul>\n",
    "            </p>"
   ]
  },
  {
   "cell_type": "markdown",
   "id": "4e13a6cf",
   "metadata": {
    "slideshow": {
     "slide_type": "slide"
    }
   },
   "source": [
    "<h2>Reading: Chapter Three</h2>\n",
    "<em>Machine Learning: Mining Insights from Data</em>\n",
    "\n",
    "<p><a href=\"https://d3.harvard.edu/platform-rctom/submission/stitch-fix-the-fashion-maven-of-machine-learning/\">The Stitch Fix</a> example: using the machine learning to complement the abilities of the human stylists.\n",
    "\n",
    "<p>Arthur Samuels and Checkers\n",
    "<ul>\n",
    "            <li>AT IBM created a checkers palying program that learned.</li>\n",
    "        <li>The first ML program</li>\n",
    "        <li>\"A computer could learn and improve by processing data without having to be explicitly programmed.\"</li>\n",
    "        <li>Statistics</li>\n",
    "        <li>Probability</li>\n",
    "            <li>Trained to make predictions.</li>\n",
    "            <li> In contrast to normal computer programs (e.g .expert systems) that are lists of commands/rules.</li>\n",
    "</ul>\n",
    "        <p><a href=\"https://youtu.be/vIci3C4JkL0?si=_n_KZc0VZOlsVNWZ\" >The hot dog recognizer</a>.\n",
    "    "
   ]
  },
  {
   "cell_type": "markdown",
   "id": "ca645993",
   "metadata": {
    "slideshow": {
     "slide_type": "slide"
    }
   },
   "source": [
    "<h4>Feature Extraction</h4>\n",
    "This is an important topic in ML.\n",
    "[Ask the class]"
   ]
  },
  {
   "cell_type": "markdown",
   "id": "7e130245",
   "metadata": {
    "slideshow": {
     "slide_type": "slide"
    }
   },
   "source": [
    "<h4>Some Examples</h4>\n",
    "What can you do with Machine Learning:\n",
    "<ul>\n",
    "    <li>Predictive Maintenance</li>\n",
    "    <li>Recruiting Employees</li>\n",
    "    <li>Customer Experience</li>\n",
    "    <li>Finance</li>\n",
    "    <li>Chatbots for various applications</li>\n",
    "    <li>Dating</li>\n",
    "    </ul>\n",
    "    "
   ]
  },
  {
   "cell_type": "markdown",
   "id": "142a16d2",
   "metadata": {
    "slideshow": {
     "slide_type": "slide"
    }
   },
   "source": [
    "<h3>The Machine Learning Life Cycle</h3>\n",
    "Analogous to the software development life cycle.\n",
    "<p>A kind of specific project management.\n",
    "<p>The Machine Learning Process\n",
    "<ol>\n",
    "    <li>Get and prepare your data</li>\n",
    "    <ul><li>Gather the data</li>\n",
    "        <li>Clean the data</li>\n",
    "        <li>Test/check the data for completeness, bias, etc.</li>\n",
    "    </ul>\n",
    "    <li>Choose a model/algorithm</li>\n",
    "    <li>Train the model</li>\n",
    "    <ul><li>Pick a training/testing strategy to avoid overfitting.</li>\n",
    "        <li>Divide the dataset into training, testing, evaluation, etc.</li>\n",
    "        <li>Train the system on the data</li>\n",
    "        <ul><li>Monitoring for learning, overfitting, etc.</li>\n",
    "        </ul>\n",
    "    </ul>\n",
    "    <li>Evaluate the model</li>\n",
    "    <li>Fine tune the model</li>\n",
    "</ol>"
   ]
  },
  {
   "cell_type": "markdown",
   "id": "796a02aa",
   "metadata": {
    "slideshow": {
     "slide_type": "slide"
    }
   },
   "source": [
    "<h3>The Math</h3>\n",
    "<p>One should first learn these before thinking about data and machine learning:<ul> \n",
    "    <li>Standard Deviation</li>\n",
    "    <li>The Normal Distribution</li>\n",
    "    <li>Correlation</li>\n",
    "    </ul>    "
   ]
  },
  {
   "cell_type": "markdown",
   "id": "2e41106d",
   "metadata": {
    "slideshow": {
     "slide_type": "slide"
    }
   },
   "source": [
    "<h3>The Normal Distribution</h3>\n",
    "<p><strong>Definition:</strong> Often called the bell curve, it’s a way to describe how data points are distributed.</p>\n",
    "<div><img src=\"NormalDist.png\" width=\"500\" /></div>\n",
    "<p><strong>Explanation:</strong> In a normal distribution, most values cluster around the average (the peak of the curve), and fewer values are found as you move away from the average, creating a symmetrical, bell-shaped curve. This is common in many natural phenomena, like heights or test scores.</p>"
   ]
  },
  {
   "cell_type": "markdown",
   "id": "15ca128c",
   "metadata": {
    "slideshow": {
     "slide_type": "slide"
    }
   },
   "source": [
    "<h3>The Normal Distribution</h3>\n",
    "\n",
    "<strong>Example:</strong> Consider heights of adult men. Most men are of average height, with fewer men being very short or very tall, forming a bell curve when plotted on a graph.</p>\n",
    "<strong>Counterexample:</strong> Imagine a distribution of people's favorite ice cream flavors. This data would likely not follow a normal distribution, as preferences can vary widely without clustering around a central value.\n",
    "\n"
   ]
  },
  {
   "cell_type": "markdown",
   "id": "e5cd238f",
   "metadata": {
    "slideshow": {
     "slide_type": "slide"
    }
   },
   "source": [
    "<h3>Standard Deviation</h3>\n",
    "<div>\n",
    "<img src=\"StandardDev.png\" width=\"600\" />\n",
    "</div>\n",
    "<p><strong>Definition:</strong> A measure of how spread out the numbers in a data set are.</p>\n",
    "<p><strong>Explanation:</strong> It helps us understand if the data points are close to the average or widely spread out. For example, if everyone's test scores are close to the average score, the standard deviation is small; if scores vary widely, the standard deviation is large.</p>\n"
   ]
  },
  {
   "cell_type": "markdown",
   "id": "ddb9407e",
   "metadata": {
    "slideshow": {
     "slide_type": "slide"
    }
   },
   "source": [
    "<h3>Standard Deviation</h3>\n",
    "\n",
    "<p><strong>Example:</strong> Imagine a class where most students score between 85 and 95 on a test. The scores are close to each other, so the standard deviation is small.</p>\n",
    "<p><strong>Counterexample:</strong> Now, imagine a different class where some students score around 50, some around 90, and some around 100. The scores are spread out, so the standard deviation is large.</p>\n",
    "\n"
   ]
  },
  {
   "cell_type": "markdown",
   "id": "37a14b00",
   "metadata": {
    "slideshow": {
     "slide_type": "slide"
    }
   },
   "source": [
    "<h3>Correlation</h3>\n",
    "<div><img src=\"Correlation.png\" width=\"600\" />\n",
    "</div>\n",
    "<p><strong>Definition:</strong> A measure of how two things are related.</p>\n",
    "<p><strong>Explanation:</strong> Correlation helps us understand if two things change together. If the correlation is positive, when one thing increases, the other tends to increase as well. If it’s negative, when one increases, the other decreases.</p>\n",
    "<p><strong>Example:</strong> There is often a positive correlation between the amount of time spent studying and test scores; as study time increases, test scores tend to increase.</p>\n",
    "<p><strong>Counterexample:</strong> There might be no correlation between the number of books someone reads and the number of miles they run in a year. These two variables are unrelated, so knowing one doesn't help predict the other.</p>\n",
    "<div>\n"
   ]
  },
  {
   "cell_type": "markdown",
   "id": "29bf255a",
   "metadata": {
    "slideshow": {
     "slide_type": "slide"
    }
   },
   "source": [
    "<h3>Types of Machine Learning</h3>\n",
    "The main different types of machine learning:\n",
    "<ul> \n",
    "    <li>Supervised Learning</li>\n",
    "    <li>Unsupervised Learning</li>\n",
    "    <li>Reinforcement Learning</li>\n",
    "    <li>Semi-supervised Learning</li>\n",
    "    </ul>\n"
   ]
  },
  {
   "cell_type": "markdown",
   "id": "f9406bba",
   "metadata": {
    "slideshow": {
     "slide_type": "slide"
    }
   },
   "source": [
    "<h3>Supervised Learning</h3>\n",
    "<ul>\n",
    "  <li><strong>Definition:</strong> Learning from labeled data where the model is trained with input-output pairs.\n",
    "</ul>\n",
    "\n",
    "<div>\n",
    "<img src=\"supervised.png\" width=\"400\" />\n",
    "</div>"
   ]
  },
  {
   "cell_type": "markdown",
   "id": "900f046e",
   "metadata": {
    "slideshow": {
     "slide_type": "slide"
    }
   },
   "source": [
    "<h3>Supervised Learning</h3>\n",
    "<ul>\n",
    "  <li><strong>Examples:</strong>\n",
    "    <ul>\n",
    "      <li>Classification (e.g., spam detection)</li>\n",
    "      <li>Regression (e.g., predicting house prices)</li>\n",
    "    </ul>\n",
    "  </li>\n",
    "  <li><strong>Key Features:</strong>\n",
    "    <ul>\n",
    "      <li>Uses labeled data</li>\n",
    "      <li>Clear feedback</li>\n",
    "      <li>Good for prediction tasks</li>\n",
    "    </ul>\n",
    "  </li>\n",
    "</ul>\n"
   ]
  },
  {
   "cell_type": "markdown",
   "id": "29b7f543",
   "metadata": {
    "slideshow": {
     "slide_type": "slide"
    }
   },
   "source": [
    "<h3>Unsupervised Learning</h3>\n",
    "<ul>\n",
    "  <li><strong>Definition:</strong> Learning patterns from unlabeled data where the system tries to infer the structure.</li>\n",
    "</ul>\n",
    "<div>\n",
    "<img src=\"unsupervised.png\" width=\"500\" />\n",
    "</div>"
   ]
  },
  {
   "cell_type": "markdown",
   "id": "ee0c3e14",
   "metadata": {
    "slideshow": {
     "slide_type": "slide"
    }
   },
   "source": [
    "<h3>Unsupervised Learning</h3>\n",
    "<ul>\n",
    "  <li><strong>Examples:</strong>\n",
    "    <ul>\n",
    "      <li>Clustering (e.g., customer segmentation)</li>\n",
    "      <li>Association (e.g., market basket analysis)</li>\n",
    "    </ul>\n",
    "  </li>\n",
    "  <li><strong>Key Features:</strong>\n",
    "    <ul>\n",
    "      <li>No labeled data</li>\n",
    "      <li>Focuses on discovering hidden structures in data</li>\n",
    "    </ul>\n",
    "  </li>\n",
    "</ul>\n"
   ]
  },
  {
   "cell_type": "markdown",
   "id": "67ff76cf",
   "metadata": {
    "slideshow": {
     "slide_type": "slide"
    }
   },
   "source": [
    "<h3>Reinforcement Learning</h3>\n",
    "<ul>\n",
    "  <li><strong>Definition:</strong> Learning through interaction with an environment to maximize cumulative reward.</li>\n",
    "</ul>\n",
    "<div>\n",
    "<img src=\"reinforcement.png\" width=\"500\" />\n",
    "</div>"
   ]
  },
  {
   "cell_type": "markdown",
   "id": "2b5e8621",
   "metadata": {
    "slideshow": {
     "slide_type": "slide"
    }
   },
   "source": [
    "<h3>Reinforcement Learning</h3>\n",
    "<ul>\n",
    "  <li><strong>Examples:</strong>\n",
    "    <ul>\n",
    "      <li>Game playing (e.g., AlphaGo)</li>\n",
    "      <li>Robotics (e.g., autonomous navigation)</li>\n",
    "    </ul>\n",
    "  </li>\n",
    "  <li><strong>Key Features:</strong>\n",
    "    <ul>\n",
    "      <li>Trial and error learning</li>\n",
    "      <li>Uses a reward signal</li>\n",
    "      <li>Learning in dynamic environments</li>\n",
    "    </ul>\n",
    "  </li>\n",
    "</ul>\n"
   ]
  },
  {
   "cell_type": "markdown",
   "id": "bc6112de",
   "metadata": {
    "slideshow": {
     "slide_type": "slide"
    }
   },
   "source": [
    "<h3>Semi-supervised Learning</h3>\n",
    "<ul>\n",
    "  <li><strong>Definition:</strong> Learning from a small amount of labeled data and a large amount of unlabeled data.</li>\n",
    "</ul>\n",
    "<div>\n",
    "<img src=\"Semisupervised.png\" width=\"500\" />\n",
    "</div>"
   ]
  },
  {
   "cell_type": "markdown",
   "id": "7598a946",
   "metadata": {
    "slideshow": {
     "slide_type": "slide"
    }
   },
   "source": [
    "<h3>Semi-supervised Learning</h3>\n",
    "<ul>\n",
    "  <li><strong>Examples:</strong>\n",
    "    <ul>\n",
    "      <li>Image classification (when labeling data is expensive)</li>\n",
    "      <li>Natural language processing</li>\n",
    "    </ul>\n",
    "  </li>\n",
    "  <li><strong>Key Features:</strong>\n",
    "    <ul>\n",
    "      <li>Combines strengths of both supervised and unsupervised learning</li>\n",
    "      <li>Often used when labeling data is costly</li>\n",
    "    </ul>\n",
    "  </li>\n",
    "</ul>\n"
   ]
  },
  {
   "cell_type": "markdown",
   "id": "b91e14f3",
   "metadata": {
    "slideshow": {
     "slide_type": "slide"
    }
   },
   "source": [
    "<h3>Some Common Machine Learning Algorithms</h3>\n",
    "Some widely used/cited <em>alogrithms</em>\n",
    "<ul>\n",
    "    <li>Naive Bayes classifier</li>\n",
    "    <li>K-nearest neighbor classifier</li>\n",
    "    <li>Linear Regression</li>\n",
    "    <ul><li>A baseline method that others are often compared to or based on</li></ul>\n",
    "    <li>Decision Trees</li>\n",
    "    <li>Ensemble Methods</li>\n",
    "    <ul><li>Basically, using multiple models and combining their outputs/predictions.</li></ul>\n",
    "    <li>K-means clustering</li>\n",
    "    "
   ]
  },
  {
   "cell_type": "markdown",
   "id": "3d531ff4",
   "metadata": {
    "slideshow": {
     "slide_type": "slide"
    }
   },
   "source": [
    "<h3>Comparing Machine Learning Types</h3>\n",
    "<ul>\n",
    "  <li><strong>Supervised Learning:</strong> Labeled data, good for prediction tasks.</li>\n",
    "  <li><strong>Unsupervised Learning:</strong> Unlabeled data, good for discovering patterns.</li>\n",
    "  <li><strong>Reinforcement Learning:</strong> Interaction with environment, reward-based learning.</li>\n",
    "  <li><strong>Semi-supervised Learning:</strong> Mix of labeled and unlabeled data, combines strengths of both.</li>\n",
    "</ul>\n",
    "\n",
    "<h3>Applications of Machine Learning Types</h3>\n",
    "<ul>\n",
    "  <li><strong>Supervised Learning:</strong> Medical diagnosis, fraud detection.</li>\n",
    "  <li><strong>Unsupervised Learning:</strong> Customer segmentation, anomaly detection.</li>\n",
    "  <li><strong>Reinforcement Learning:</strong> Autonomous vehicles, recommendation systems.</li>\n",
    "  <li><strong>Semi-supervised Learning:</strong> Text analysis, web content classification.</li>\n",
    "</ul>"
   ]
  },
  {
   "cell_type": "markdown",
   "id": "a49e21e5",
   "metadata": {
    "slideshow": {
     "slide_type": "skip"
    }
   },
   "source": [
    "<h2>Team Exercise</h2>\n",
    "<p>\n",
    "    Answer the following questions as best you can:</p>\n",
    "<ul>\n",
    "        <li>What do you think the term \"Perceptron\" implies in the context of AI, and why is it considered a foundational model?</li>\n",
    "        <li>How do you imagine a Perceptron makes decisions? Consider a simple scenario like filtering spam emails.</li>\n",
    "        <li>Imagine you were tasked with creating the first-ever AI model today. What problem would you try to solve, and why?</li>\n"
   ]
  },
  {
   "cell_type": "markdown",
   "id": "535ba7cd",
   "metadata": {
    "slideshow": {
     "slide_type": "skip"
    }
   },
   "source": [
    "<h3>Preparing for Upcoming Classes</h3>\n",
    "<!--\n",
    "<h4>For next class meeting (Tuesday, January 24)</h4>\n",
    "<ul>\n",
    "    <li>Get the text</li>\n",
    "    <li>Read the Forward, Introduction, and Chapter One</li>\n",
    "    <li>Read the online article <i>Introduction to Artificial Intelligence</i> <a href=\"https://www.red-gate.com/simple-talk/development/data-science-development/introduction-to-artificial-intelligence/\">Link to the article</a></li>\n",
    "     </ul>\n",
    "-->"
   ]
  }
 ],
 "metadata": {
  "celltoolbar": "Slideshow",
  "kernelspec": {
   "display_name": "Python 3 (ipykernel)",
   "language": "python",
   "name": "python3"
  },
  "language_info": {
   "codemirror_mode": {
    "name": "ipython",
    "version": 3
   },
   "file_extension": ".py",
   "mimetype": "text/x-python",
   "name": "python",
   "nbconvert_exporter": "python",
   "pygments_lexer": "ipython3",
   "version": "3.12.2"
  }
 },
 "nbformat": 4,
 "nbformat_minor": 5
}
