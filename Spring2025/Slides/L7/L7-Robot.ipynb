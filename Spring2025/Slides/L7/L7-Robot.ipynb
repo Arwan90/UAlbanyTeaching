{
 "cells": [
  {
   "cell_type": "markdown",
   "id": "61491987",
   "metadata": {
    "slideshow": {
     "slide_type": "slide"
    }
   },
   "source": [
    "<body>\n",
    "    <h1>Welcome to CINF 135 - Concepts of Artificial Intelligence</h1>\n",
    "    <p>\n",
    "        <b>Rawan AlMakinah</b> <br>\n",
    "        Department of Information Sciences and Technology,<br>\n",
    "        College of Emergency Preparedness, Homeland Security, and Cybersecurity,<br>\n",
    "    </p>"
   ]
  },
  {
   "cell_type": "markdown",
   "id": "876255ea",
   "metadata": {
    "slideshow": {
     "slide_type": "slide"
    }
   },
   "source": [
    "<b>First things first: Attendance</b>\n",
    "<p>You will find the Attendance Sheet on your Brightspace Content Page. Please follow the link and enter the passphrase of the day!</p>\n",
    "\n",
    "<p> Link: <a href=\"https://forms.office.com/r/FjyypGH3X4\">Attendance Sheet</a>\n",
    "</p>\n"
   ]
  },
  {
   "cell_type": "markdown",
   "id": "42284037",
   "metadata": {
    "slideshow": {
     "slide_type": "slide"
    }
   },
   "source": [
    "<h3> To-Do!</h3>\n",
    "\n",
    "<p>Please read the sections:\n",
    "    <ol> \n",
    "    <li>Chapter 7 </li>\n",
    "    </ol>\n",
    "</p>"
   ]
  },
  {
   "cell_type": "markdown",
   "id": "605ce05f",
   "metadata": {
    "slideshow": {
     "slide_type": "slide"
    }
   },
   "source": [
    "<h2>Chapter Seven: Physical Robots</h2>"
   ]
  },
  {
   "cell_type": "markdown",
   "id": "2dafec69",
   "metadata": {
    "slideshow": {
     "slide_type": "slide"
    }
   },
   "source": [
    "<h3>Figure AI</h3>\n",
    "\n",
    "<p>Figure AI, Inc. is a United States-based robotics company specializing in the development of AI-powered humanoid robots. It was founded in 2022, by Brett Adcock, the founder of Archer Aviation and Vettery.</p>\n",
    "\n",
    "<img src=\"figure-ai.avif\" width=\"500\"/>\n",
    "\n",
    "<h3><a href=\"https://www.reddit.com/r/singularity/comments/1jjk4h7/introducing_natural_walking_figure_ai/\">Introducing Natural Walking (Figure AI)</a></h3> their robot Figure 02 demonstrates a human-like walk achieved through <b>reinforcement learning</b>, training thousands of virtual robots in physics simulators."
   ]
  },
  {
   "cell_type": "markdown",
   "id": "c6bf7373",
   "metadata": {
    "slideshow": {
     "slide_type": "slide"
    }
   },
   "source": [
    "<h3>Google DeepMind’s new AI models help robots perform physical tasks, even without training</h3>\n",
    "<p>Google DeepMind has introduced two AI models—Gemini Robotics and Gemini Robotics-ER (embodied reasoning)—to boost robots' ability to handle complex real-world tasks with greater adaptability and safety. These models enhance robot dexterity, situational understanding, and reasoning, enabling precise actions in dynamic environments.</p> \n",
    "For More: <a href=\"https://www.theverge.com/news/628021/google-deepmind-gemini-robotics-ai-models?utm_source=chatgpt.com\">[Click Here]</a>\n",
    "<img src=\"Gemini_Robot.webp\" width=\"500\"/>"
   ]
  },
  {
   "cell_type": "markdown",
   "id": "fbf0894a",
   "metadata": {
    "slideshow": {
     "slide_type": "fragment"
    }
   },
   "source": [
    "<h2><a href=\"https://www.youtube.com/watch?v=KJVOfqunm5E&ab_channel=RichDeMuro\"> Flippy’s Kitchen! </a></h2>\n",
    "<p></p>\n",
    "<div>\n",
    "<img src=\"Flippy.jpg\" width=\"700\" />\n",
    "</div>\n",
    "<p>Food service industry is one area that will be greatly impacted by robotics and AI.</p>"
   ]
  },
  {
   "cell_type": "markdown",
   "id": "f26d76ca",
   "metadata": {
    "slideshow": {
     "slide_type": "slide"
    }
   },
   "source": [
    "<h3>What Is a Robot?</h3>\n",
    "<p>Key features of robots:</p>\n",
    "<ul>\n",
    "    <li><b>Physical:</b> A robot can range in <b>size</b>, from tiny machines that can explore our body to massive industrial systems, flying machines, or underwater vessels. There also needs to be some type of <b>energy</b> source, like a battery, electricity, or solar.</li>\n",
    "    <li><b>Act:</b> A robot must be able to take certain <b>actions</b>, which could include moving an item or even talking.</li>\n",
    "    <li><b>Sense:</b> In order to act, a robot must understand its <b>environment</b>. This is possible with <b>sensors</b> and <b>feedback</b> systems.</li>\n",
    "    <li><b>Intelligence:</b> This does not mean full-on AI capabilities. However, a robot needs to be <b>programmed</b> to take certain actions.</li>\n",
    "</ul>\n"
   ]
  },
  {
   "cell_type": "markdown",
   "id": "6b7b2abf",
   "metadata": {
    "slideshow": {
     "slide_type": "slide"
    }
   },
   "source": [
    "<h3>What Is a Robot? Cont.</h3>\n",
    "\n",
    "<h4>Key Interaction Features</h4>\n",
    "\n",
    "<p><strong>Sensors:</strong> The typical sensor is a camera or a <b>Lidar</b> (light detection and ranging), which uses a laser scanner to create 3D images. They could include sensors that go beyond human capabilities, such as <b>night vision</b>. The information from the sensors is sent to a controller that <b>can activate</b> an arm or other parts of the robot.</p>\n",
    "\n",
    "<p><strong>Actuators:</strong> These are <b>electro-mechanical</b> devices like motors. For the most part, they help with the <b>movement</b> of the arms, legs, head, and any other movable part.</p>\n",
    "\n",
    "<p><strong>Computer:</strong> There are <b>memory</b> storage and <b>processors</b> to help with the inputs from the sensors (there may also be AI chips or Internet connections to AI cloud platforms).</p>\n"
   ]
  },
  {
   "cell_type": "markdown",
   "id": "aa73a14f",
   "metadata": {
    "slideshow": {
     "slide_type": "slide"
    }
   },
   "source": [
    "<h3>Operate a Robot</h3>\n",
    "<ul>\n",
    "    <li><strong>Telerobot:</strong> There is a remote control by a human operation.</li>\n",
    "    <li><strong>Autonomous robot:</strong> Uses its own abilities to navigate.</li>\n",
    "    <p><a href=\"https://www.youtube.com/watch?v=7bsEN8mwUB8&t=304s&ab_channel=SRI\"> Shakey </a> First mobile, thinking robot.\n",
    "</p>\n"
   ]
  },
  {
   "cell_type": "markdown",
   "id": "f85dcce2",
   "metadata": {
    "slideshow": {
     "slide_type": "slide"
    }
   },
   "source": [
    "<h3>Industrial and Commercial Robots</h3>\n",
    "\n",
    "<p><strong>George Devol</strong></p>\n",
    "<ul>\n",
    "  <li>An inventor who <b>did not finish high school</b></li>\n",
    "  <li>During the early <b>1950s</b>, he received a <b>patent</b> on a programmable robot called “<a href=\"https://www.youtube.com/watch?v=hxsWeVtb-JQ&ab_channel=BritishMovietone\"> Unimate </a>.”</li>\n",
    "  <li>Faced <b>public resistance</b> (due to science fiction fears!) but was able to sell it to General Motors (GM) in 1961.</li>\n",
    "</ul>\n",
    "\n",
    "<h4>Examples of Robots</h4>\n",
    "<ul>\n",
    "  <li><a href=\"https://x.com/InterestingSTEM/status/1850297427305349492\">Solar-Powered Weeding Robot</a></li>\n",
    "  <li><a href=\"https://x.com/TansuYegen/status/1850622948631077057\">Multi-Arm Robot</a></li>\n",
    "  <li><a href=\"https://www.youtube.com/watch?v=36X-cwcgBAU&ab_channel=CoyBeardmore\">Different Scenarios...</a></li>\n",
    "  <li><a href=\"https://x.com/drpenking/status/1850576070220591422\">Pregnancy Robot</a></li>\n",
    "</ul>\n"
   ]
  },
  {
   "cell_type": "markdown",
   "id": "a41a01b1",
   "metadata": {
    "slideshow": {
     "slide_type": "slide"
    }
   },
   "source": [
    "<h3>AI and Robots</h3>\n",
    "<ul>\n",
    "    <li>Slow progress</li>\n",
    "    <ul>\n",
    "        <li>Research has been <b>focused on software-based models</b></li>\n",
    "        <li>Physical robots <b>require sophisticated technologies</b> to understand the environment, such as simultaneous localization and mapping (SLAM) in unknown environments</li>\n",
    "    </ul>\n",
    "</ul>\n",
    "\n",
    "<ul>\n",
    "<li><strong>Osaro Robotics:</strong> develops systems that allow robots to learn quickly.\n",
    "one robot was able to learn, within only five seconds, how to lift and place a chicken.</li>\n",
    "<li><strong>OpenAI:</strong> created the Dactyl, which is a robot hand that has human-like dexterity. \n",
    "“domain randomization” which presents the robot many scenarios—even those that have a very low probability of happening.</li>\n",
    "    <ul><li><a href=\"https://www.youtube.com/watch?v=x4O8pojMF0w&ab_channel=OpenAI\">Dactyl</a></li></ul>\n",
    "</ul>\n"
   ]
  },
  {
   "cell_type": "markdown",
   "id": "766d78d4",
   "metadata": {
    "slideshow": {
     "slide_type": "slide"
    }
   },
   "source": [
    "<h3>Humanoid and Consumer Robots</h3>\n",
    "<h4><a href=\"https://www.youtube.com/watch?v=TSGGt0RaVXU&t=25s&ab_channel=CNET\">Tesla Optimus vs. Unitree G1</a></h4>"
   ]
  },
  {
   "cell_type": "markdown",
   "id": "649bfcd2",
   "metadata": {
    "slideshow": {
     "slide_type": "slide"
    }
   },
   "source": [
    "<h3>Physical Robots Real World Use Cases</h3>\n",
    "<h4><a href=\"https://www.youtube.com/watch?v=VMZM5rMOIPE&ab_channel=KPIX%7CCBSNEWSBAYAREA\">Walmart Autonomous Scanning Robots</a></h4>\n"
   ]
  },
  {
   "cell_type": "markdown",
   "id": "cc94a694",
   "metadata": {
    "slideshow": {
     "slide_type": "slide"
    }
   },
   "source": [
    "<h3>Cybersecurity and Robots</h3>\n",
    "\n",
    "\n",
    "\n",
    "\n",
    "<ul>\n",
    "    <li>connected to the cloud</li>\n",
    "    <ul>\n",
    "        <li>systems are updated wirelessly exposes them to malware, viruses, and even ransoms.</li>\n",
    "        <li>data after selling the robot.</li>\n",
    "        <ul><li>GreenTheOnly (white hat hacker): extract data from of Tesla models at junkyards.</li></ul>\n",
    "    </ul>\n",
    "</ul>\n"
   ]
  },
  {
   "cell_type": "markdown",
   "id": "41601564",
   "metadata": {
    "slideshow": {
     "slide_type": "slide"
    }
   },
   "source": [
    "<h3>Programming Robots for AI</h3>\n",
    "<ul>\n",
    "    <li>Systems get cheaper and there are new software platforms emerging</li>\n",
    "    <li><strong>Robot Operating System (<a href=\"https://www.ros.org/\">ROS</a>)</strong>:</li>\n",
    "        <ul>\n",
    "            <li>It is a standard in the industry.</li>\n",
    "            <li>Has a global community of users</li>\n",
    "            <li>Middleware helps manage many critical parts of a robot:</li>\n",
    "            <ul>\n",
    "                <li><strong>Planning</strong> - ROS integrates with planning libraries, like MoveIt!, to support motion planning and task scheduling.</li>\n",
    "                <li><strong>Simulations</strong> - ROS supports Gazebo and other simulators for testing robots in realistic 3D environments.</li>\n",
    "            <li><strong>Mapping and Localization</strong> - ROS offers packages like SLAM (Simultaneous Localization and Mapping) to help robots build maps of their environment and localize themselves within them.</li>\n",
    "            <li><strong>Perception</strong> - ROS has libraries for processing sensory data (e.g., from cameras, LiDAR) for perception tasks such as object detection and scene understanding.</li>\n",
    "            <li><strong>Prototyping</strong> - With its modular and open-source design, ROS allows for rapid prototyping, enabling users to build, test, and iterate quickly on robotic systems.</li>\n",
    "          </ul>\n",
    "    </ul>\n",
    "    \n",
    "<b><a href=\"https://deepmind.google/technologies/gemini-robotics/\">Gemini Robotics??</a></b>: Gemini Robotics Demo: Desk Organization: <a href=\"https://www.youtube.com/watch?v=K4FYiK4CFp0&ab_channel=GoogleDeepMind\">[Here]</a>"
   ]
  },
  {
   "cell_type": "markdown",
   "id": "80928223",
   "metadata": {
    "slideshow": {
     "slide_type": "slide"
    }
   },
   "source": [
    "<h3>Activity: Real-World Robots and Their Implications</h3>\n",
    "<h4>Step 1: Small Group Brainstorming and Media Sharing (20 minutes)</h4>\n",
    "    <ol>\n",
    "        <li>\n",
    "            Form small groups (3-4 students each) and choose one real-world case where robots are used. Examples include:\n",
    "            <ul>\n",
    "                <li>Healthcare Robots - Assisting in surgeries or patient care</li>\n",
    "                <li>Agricultural Robots - Automated harvesting and pest control</li>\n",
    "                <li>Military Robots - Surveillance or bomb disposal robots</li>\n",
    "            </ul>\n",
    "        </li>\n",
    "        <li>\n",
    "            As a group, search for a video, image, article, or any media that shows your assigned robot in action or explains its purpose. Discuss the following within your group:\n",
    "            <ul>\n",
    "                <li>Describe the robot and its primary purpose in this scenario.</li>\n",
    "                <li>Brainstorm potential implications (both positive and negative) for each category:\n",
    "                    <ul>\n",
    "                        <li><strong>Social</strong> (e.g., impact on relationships, human interaction)</li>\n",
    "                        <li><strong>Economic</strong> (e.g., job creation or loss, cost implications)</li>\n",
    "                        <li><strong>Ethical</strong> (e.g., privacy, fairness, autonomy)</li>\n",
    "                        <li><strong>Environmental</strong> (e.g., resource use, energy consumption)</li>\n",
    "                        <li><strong>Security</strong> (e.g., potential for hacking, data protection, and physical safety risks)</li>\n",
    "                    </ul>\n",
    "                </li>\n",
    "            </ul>\n",
    "        </li>\n",
    "    </ol>\n",
    "    \n",
    "<h4>Step 2: Presenting Work and Reflection (15 minutes)</h4>\n"
   ]
  },
  {
   "cell_type": "markdown",
   "id": "055dbb80",
   "metadata": {
    "slideshow": {
     "slide_type": "slide"
    }
   },
   "source": [
    "<h3> Coming Next!</h3>\n",
    "\n",
    "<p>Please read the sections:\n",
    "    <ol> \n",
    "    <li>Chapter 6</li>\n",
    "    </ol>\n",
    "</p>"
   ]
  }
 ],
 "metadata": {
  "celltoolbar": "Slideshow",
  "kernelspec": {
   "display_name": "Python 3 (ipykernel)",
   "language": "python",
   "name": "python3"
  },
  "language_info": {
   "codemirror_mode": {
    "name": "ipython",
    "version": 3
   },
   "file_extension": ".py",
   "mimetype": "text/x-python",
   "name": "python",
   "nbconvert_exporter": "python",
   "pygments_lexer": "ipython3",
   "version": "3.12.2"
  }
 },
 "nbformat": 4,
 "nbformat_minor": 5
}
